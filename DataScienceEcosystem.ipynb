{
 "cells": [
  {
   "cell_type": "markdown",
   "id": "9a0300a1",
   "metadata": {},
   "source": [
    "# DataScienceEcosystem.ipynb"
   ]
  }
 ],
 "metadata": {
  "language_info": {
   "name": "python"
  }
 },
 "nbformat": 4,
 "nbformat_minor": 5
}
